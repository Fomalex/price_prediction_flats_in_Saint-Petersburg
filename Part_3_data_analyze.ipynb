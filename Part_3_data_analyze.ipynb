{
 "cells": [
  {
   "cell_type": "code",
   "execution_count": 49,
   "metadata": {},
   "outputs": [],
   "source": [
    "import re\n",
    "import pandas as pd\n",
    "import numpy as np"
   ]
  },
  {
   "cell_type": "code",
   "execution_count": 50,
   "metadata": {},
   "outputs": [],
   "source": [
    "pd.set_option('display.max_columns', None)"
   ]
  },
  {
   "cell_type": "code",
   "execution_count": 51,
   "metadata": {},
   "outputs": [
    {
     "name": "stderr",
     "output_type": "stream",
     "text": [
      "D:\\Users\\User\\Anaconda3\\lib\\site-packages\\IPython\\core\\interactiveshell.py:3058: DtypeWarning: Columns (33,36,37) have mixed types.Specify dtype option on import or set low_memory=False.\n",
      "  interactivity=interactivity, compiler=compiler, result=result)\n"
     ]
    }
   ],
   "source": [
    "cian_df=pd.read_csv('cian_data.csv')"
   ]
  },
  {
   "cell_type": "code",
   "execution_count": 52,
   "metadata": {},
   "outputs": [],
   "source": [
    "cian_df=cian_df.drop_duplicates()\n",
    "cian_df.reset_index(inplace=True)\n",
    "cian_df=cian_df.drop('index', axis=1)"
   ]
  },
  {
   "cell_type": "code",
   "execution_count": 53,
   "metadata": {},
   "outputs": [
    {
     "data": {
      "text/html": [
       "<div>\n",
       "<style scoped>\n",
       "    .dataframe tbody tr th:only-of-type {\n",
       "        vertical-align: middle;\n",
       "    }\n",
       "\n",
       "    .dataframe tbody tr th {\n",
       "        vertical-align: top;\n",
       "    }\n",
       "\n",
       "    .dataframe thead th {\n",
       "        text-align: right;\n",
       "    }\n",
       "</style>\n",
       "<table border=\"1\" class=\"dataframe\">\n",
       "  <thead>\n",
       "    <tr style=\"text-align: right;\">\n",
       "      <th></th>\n",
       "      <th>Цена</th>\n",
       "      <th>Построен</th>\n",
       "      <th>Год постройки</th>\n",
       "      <th>Подъезды</th>\n",
       "      <th>Всего комнат в квартире</th>\n",
       "      <th>Комнат в продажу</th>\n",
       "    </tr>\n",
       "  </thead>\n",
       "  <tbody>\n",
       "    <tr>\n",
       "      <th>count</th>\n",
       "      <td>3.205300e+04</td>\n",
       "      <td>20513.000000</td>\n",
       "      <td>17520.000000</td>\n",
       "      <td>17201.000000</td>\n",
       "      <td>2.000000</td>\n",
       "      <td>2.000000</td>\n",
       "    </tr>\n",
       "    <tr>\n",
       "      <th>mean</th>\n",
       "      <td>1.507758e+07</td>\n",
       "      <td>1980.844001</td>\n",
       "      <td>1975.527797</td>\n",
       "      <td>6.288646</td>\n",
       "      <td>20.000000</td>\n",
       "      <td>1.500000</td>\n",
       "    </tr>\n",
       "    <tr>\n",
       "      <th>std</th>\n",
       "      <td>1.189231e+08</td>\n",
       "      <td>47.119228</td>\n",
       "      <td>46.825923</td>\n",
       "      <td>5.200089</td>\n",
       "      <td>1.414214</td>\n",
       "      <td>0.707107</td>\n",
       "    </tr>\n",
       "    <tr>\n",
       "      <th>min</th>\n",
       "      <td>1.199000e+06</td>\n",
       "      <td>1728.000000</td>\n",
       "      <td>1728.000000</td>\n",
       "      <td>1.000000</td>\n",
       "      <td>19.000000</td>\n",
       "      <td>1.000000</td>\n",
       "    </tr>\n",
       "    <tr>\n",
       "      <th>25%</th>\n",
       "      <td>5.600000e+06</td>\n",
       "      <td>1964.000000</td>\n",
       "      <td>1961.000000</td>\n",
       "      <td>3.000000</td>\n",
       "      <td>19.500000</td>\n",
       "      <td>1.250000</td>\n",
       "    </tr>\n",
       "    <tr>\n",
       "      <th>50%</th>\n",
       "      <td>8.000000e+06</td>\n",
       "      <td>2004.000000</td>\n",
       "      <td>1989.000000</td>\n",
       "      <td>5.000000</td>\n",
       "      <td>20.000000</td>\n",
       "      <td>1.500000</td>\n",
       "    </tr>\n",
       "    <tr>\n",
       "      <th>75%</th>\n",
       "      <td>1.323300e+07</td>\n",
       "      <td>2016.000000</td>\n",
       "      <td>2012.000000</td>\n",
       "      <td>8.000000</td>\n",
       "      <td>20.500000</td>\n",
       "      <td>1.750000</td>\n",
       "    </tr>\n",
       "    <tr>\n",
       "      <th>max</th>\n",
       "      <td>9.300000e+09</td>\n",
       "      <td>2022.000000</td>\n",
       "      <td>2020.000000</td>\n",
       "      <td>48.000000</td>\n",
       "      <td>21.000000</td>\n",
       "      <td>2.000000</td>\n",
       "    </tr>\n",
       "  </tbody>\n",
       "</table>\n",
       "</div>"
      ],
      "text/plain": [
       "               Цена      Построен  Год постройки      Подъезды  \\\n",
       "count  3.205300e+04  20513.000000   17520.000000  17201.000000   \n",
       "mean   1.507758e+07   1980.844001    1975.527797      6.288646   \n",
       "std    1.189231e+08     47.119228      46.825923      5.200089   \n",
       "min    1.199000e+06   1728.000000    1728.000000      1.000000   \n",
       "25%    5.600000e+06   1964.000000    1961.000000      3.000000   \n",
       "50%    8.000000e+06   2004.000000    1989.000000      5.000000   \n",
       "75%    1.323300e+07   2016.000000    2012.000000      8.000000   \n",
       "max    9.300000e+09   2022.000000    2020.000000     48.000000   \n",
       "\n",
       "       Всего комнат в квартире  Комнат в продажу  \n",
       "count                 2.000000          2.000000  \n",
       "mean                 20.000000          1.500000  \n",
       "std                   1.414214          0.707107  \n",
       "min                  19.000000          1.000000  \n",
       "25%                  19.500000          1.250000  \n",
       "50%                  20.000000          1.500000  \n",
       "75%                  20.500000          1.750000  \n",
       "max                  21.000000          2.000000  "
      ]
     },
     "execution_count": 53,
     "metadata": {},
     "output_type": "execute_result"
    }
   ],
   "source": [
    "cian_df.describe()"
   ]
  },
  {
   "cell_type": "code",
   "execution_count": 54,
   "metadata": {
    "scrolled": true
   },
   "outputs": [
    {
     "name": "stdout",
     "output_type": "stream",
     "text": [
      "<class 'pandas.core.frame.DataFrame'>\n",
      "RangeIndex: 32054 entries, 0 to 32053\n",
      "Data columns (total 38 columns):\n",
      " #   Column                                                                        Non-Null Count  Dtype  \n",
      "---  ------                                                                        --------------  -----  \n",
      " 0   Название                                                                      32053 non-null  object \n",
      " 1   Описание                                                                      32053 non-null  object \n",
      " 2   Адрес                                                                         32053 non-null  object \n",
      " 3   Метро                                                                         29658 non-null  object \n",
      " 4   Время до метро                                                                29386 non-null  object \n",
      " 5   Цена                                                                          32053 non-null  float64\n",
      " 6   Цена за квадрат                                                               32053 non-null  object \n",
      " 7   Общая                                                                         32051 non-null  object \n",
      " 8   Жилая                                                                         29752 non-null  object \n",
      " 9   Кухня                                                                         27450 non-null  object \n",
      " 10  Этаж                                                                          32053 non-null  object \n",
      " 11  Построен                                                                      20513 non-null  float64\n",
      " 12  Тип жилья                                                                     31494 non-null  object \n",
      " 13  Планировка                                                                    11893 non-null  object \n",
      " 14  Площадь комнат+ обозначение смежных комнат- обозначение изолированных комнат  25708 non-null  object \n",
      " 15  Высота потолков                                                               15226 non-null  object \n",
      " 16  Санузел                                                                       27223 non-null  object \n",
      " 17  Балкон/лоджия                                                                 19653 non-null  object \n",
      " 18  Ремонт                                                                        19351 non-null  object \n",
      " 19  Вид из окон                                                                   18052 non-null  object \n",
      " 20  Год постройки                                                                 17520 non-null  float64\n",
      " 21  Тип дома                                                                      21367 non-null  object \n",
      " 22  Тип перекрытий                                                                16429 non-null  object \n",
      " 23  Подъезды                                                                      17201 non-null  float64\n",
      " 24  Лифты                                                                         17723 non-null  object \n",
      " 25  Отопление                                                                     16717 non-null  object \n",
      " 26  Аварийность                                                                   17893 non-null  object \n",
      " 27  Газоснабжение                                                                 8086 non-null   object \n",
      " 28  Парковка                                                                      2797 non-null   object \n",
      " 29  Мусоропровод                                                                  3510 non-null   object \n",
      " 30  Строительная серия                                                            1386 non-null   object \n",
      " 31  Срок сдачи                                                                    6801 non-null   object \n",
      " 32  Отделка                                                                       2820 non-null   object \n",
      " 33  Комната                                                                       2 non-null      object \n",
      " 34  Всего комнат в квартире                                                       2 non-null      float64\n",
      " 35  Комнат в продажу                                                              2 non-null      float64\n",
      " 36  Площадь комнаты                                                               2 non-null      object \n",
      " 37  Размер доли                                                                   1 non-null      object \n",
      "dtypes: float64(6), object(32)\n",
      "memory usage: 9.3+ MB\n"
     ]
    }
   ],
   "source": [
    "cian_df.info()"
   ]
  },
  {
   "cell_type": "code",
   "execution_count": 55,
   "metadata": {
    "scrolled": true
   },
   "outputs": [
    {
     "data": {
      "text/plain": [
       "Index(['Название', 'Описание', 'Адрес', 'Метро', 'Время до метро', 'Цена',\n",
       "       'Цена за квадрат', 'Общая', 'Жилая', 'Кухня', 'Этаж', 'Построен',\n",
       "       'Тип жилья', 'Планировка',\n",
       "       'Площадь комнат+ обозначение смежных комнат- обозначение изолированных комнат',\n",
       "       'Высота потолков', 'Санузел', 'Балкон/лоджия', 'Ремонт', 'Вид из окон',\n",
       "       'Год постройки', 'Тип дома', 'Тип перекрытий', 'Подъезды', 'Лифты',\n",
       "       'Отопление', 'Аварийность', 'Газоснабжение', 'Парковка', 'Мусоропровод',\n",
       "       'Строительная серия', 'Срок сдачи', 'Отделка', 'Комната',\n",
       "       'Всего комнат в квартире', 'Комнат в продажу', 'Площадь комнаты',\n",
       "       'Размер доли'],\n",
       "      dtype='object')"
      ]
     },
     "execution_count": 55,
     "metadata": {},
     "output_type": "execute_result"
    }
   ],
   "source": [
    "cian_df.columns"
   ]
  },
  {
   "cell_type": "markdown",
   "metadata": {},
   "source": [
    "# Рассмотрим каждый признак, очистим данные и заполним пропущенные значения"
   ]
  },
  {
   "cell_type": "code",
   "execution_count": 56,
   "metadata": {},
   "outputs": [],
   "source": [
    "#Удалим признаки, где слишком мало данных\n",
    "cian_df = cian_df.drop(['Газоснабжение', 'Парковка', 'Мусоропровод',\n",
    "       'Строительная серия', 'Срок сдачи', 'Отделка', 'Комната',\n",
    "       'Всего комнат в квартире', 'Комнат в продажу', 'Площадь комнаты',\n",
    "       'Размер доли','Планировка'], axis=1)"
   ]
  },
  {
   "cell_type": "markdown",
   "metadata": {},
   "source": [
    "### Обработка признака \"Общая\""
   ]
  },
  {
   "cell_type": "code",
   "execution_count": 57,
   "metadata": {},
   "outputs": [
    {
     "data": {
      "text/plain": [
       "3"
      ]
     },
     "execution_count": 57,
     "metadata": {},
     "output_type": "execute_result"
    }
   ],
   "source": [
    "cian_df['Общая'].isna().sum()"
   ]
  },
  {
   "cell_type": "code",
   "execution_count": 58,
   "metadata": {},
   "outputs": [],
   "source": [
    "#Удалим пропущенные значения общей площади\n",
    "cian_df=cian_df.dropna(subset=['Общая'])"
   ]
  },
  {
   "cell_type": "code",
   "execution_count": 59,
   "metadata": {},
   "outputs": [],
   "source": [
    "cian_df['Общая'] = cian_df['Общая'].apply(lambda x: float(x.replace('\\xa0м²','').replace('1 ','').replace(',','.').replace(' ','.')))"
   ]
  },
  {
   "cell_type": "markdown",
   "metadata": {},
   "source": [
    "### Обработка признака \"Жилая\""
   ]
  },
  {
   "cell_type": "code",
   "execution_count": 60,
   "metadata": {
    "scrolled": true
   },
   "outputs": [
    {
     "name": "stderr",
     "output_type": "stream",
     "text": [
      "D:\\Users\\User\\Anaconda3\\lib\\site-packages\\ipykernel_launcher.py:3: SettingWithCopyWarning: \n",
      "A value is trying to be set on a copy of a slice from a DataFrame.\n",
      "Try using .loc[row_indexer,col_indexer] = value instead\n",
      "\n",
      "See the caveats in the documentation: https://pandas.pydata.org/pandas-docs/stable/user_guide/indexing.html#returning-a-view-versus-a-copy\n",
      "  This is separate from the ipykernel package so we can avoid doing imports until\n",
      "D:\\Users\\User\\Anaconda3\\lib\\site-packages\\ipykernel_launcher.py:5: SettingWithCopyWarning: \n",
      "A value is trying to be set on a copy of a slice from a DataFrame\n",
      "\n",
      "See the caveats in the documentation: https://pandas.pydata.org/pandas-docs/stable/user_guide/indexing.html#returning-a-view-versus-a-copy\n",
      "  \"\"\"\n"
     ]
    }
   ],
   "source": [
    "#Обработка пропущенных значений жилой площади:\n",
    "cian_df1=cian_df.dropna(subset=['Жилая'])\n",
    "cian_df1['Жилая'] = cian_df1['Жилая'].apply(lambda x: float(x.replace('\\xa0м²','').replace('1 ','').replace(',','.').replace(' ','.')))\n",
    "koeff=cian_df1['Общая'].mean()/cian_df1['Жилая'].mean()\n",
    "cian_df['Жилая'][cian_df['Жилая'].isnull()] = cian_df['Общая'][cian_df['Жилая'].isnull()]/koeff\n",
    "cian_df['Жилая'] = cian_df['Жилая'].apply(lambda x: str(x))\n",
    "cian_df['Жилая'] = cian_df['Жилая'].apply(lambda x: float(x.replace('\\xa0м²','').replace('1 ','').replace(',','.').replace(' ','.')))"
   ]
  },
  {
   "cell_type": "code",
   "execution_count": 61,
   "metadata": {},
   "outputs": [
    {
     "data": {
      "text/plain": [
       "0.0"
      ]
     },
     "execution_count": 61,
     "metadata": {},
     "output_type": "execute_result"
    }
   ],
   "source": [
    "cian_df['Жилая'].min()"
   ]
  },
  {
   "cell_type": "code",
   "execution_count": 62,
   "metadata": {
    "scrolled": true
   },
   "outputs": [
    {
     "name": "stderr",
     "output_type": "stream",
     "text": [
      "D:\\Users\\User\\Anaconda3\\lib\\site-packages\\ipykernel_launcher.py:2: SettingWithCopyWarning: \n",
      "A value is trying to be set on a copy of a slice from a DataFrame\n",
      "\n",
      "See the caveats in the documentation: https://pandas.pydata.org/pandas-docs/stable/user_guide/indexing.html#returning-a-view-versus-a-copy\n",
      "  \n"
     ]
    }
   ],
   "source": [
    "#Удалим явный выброс:\n",
    "cian_df['Жилая'][cian_df['Жилая']==0.0]=np.nan\n",
    "cian_df = cian_df.dropna(subset=['Жилая'])"
   ]
  },
  {
   "cell_type": "markdown",
   "metadata": {},
   "source": [
    "### Обработка признака \"Кухня\""
   ]
  },
  {
   "cell_type": "code",
   "execution_count": 65,
   "metadata": {
    "scrolled": true
   },
   "outputs": [
    {
     "name": "stderr",
     "output_type": "stream",
     "text": [
      "D:\\Users\\User\\Anaconda3\\lib\\site-packages\\ipykernel_launcher.py:3: SettingWithCopyWarning: \n",
      "A value is trying to be set on a copy of a slice from a DataFrame.\n",
      "Try using .loc[row_indexer,col_indexer] = value instead\n",
      "\n",
      "See the caveats in the documentation: https://pandas.pydata.org/pandas-docs/stable/user_guide/indexing.html#returning-a-view-versus-a-copy\n",
      "  This is separate from the ipykernel package so we can avoid doing imports until\n"
     ]
    }
   ],
   "source": [
    "#Обработка пропущенных значений площади кухни:\n",
    "cian_df2=cian_df.dropna(subset=['Кухня'])\n",
    "cian_df2['Кухня'] = cian_df2['Кухня'].apply(lambda x: float(x.replace('\\xa0м²','').replace('1 ','').replace(',','.').replace(' ','.')))\n",
    "koeff1=cian_df2['Общая'].mean()/cian_df2['Кухня'].mean()\n",
    "cian_df['Кухня'][cian_df['Кухня'].isnull()] = cian_df['Общая'][cian_df['Кухня'].isnull()]/koeff1\n",
    "cian_df['Кухня'] = cian_df['Кухня'].apply(lambda x: str(x))\n",
    "cian_df['Кухня'] = cian_df['Кухня'].apply(lambda x: float(x.replace('\\xa0м²','').replace('1 ','').replace(',','.').replace(' ','.')))"
   ]
  },
  {
   "cell_type": "code",
   "execution_count": 66,
   "metadata": {},
   "outputs": [
    {
     "data": {
      "text/plain": [
       "1.0"
      ]
     },
     "execution_count": 66,
     "metadata": {},
     "output_type": "execute_result"
    }
   ],
   "source": [
    "cian_df['Кухня'].min()"
   ]
  },
  {
   "cell_type": "code",
   "execution_count": 67,
   "metadata": {},
   "outputs": [
    {
     "data": {
      "text/plain": [
       "206.0"
      ]
     },
     "execution_count": 67,
     "metadata": {},
     "output_type": "execute_result"
    }
   ],
   "source": [
    "cian_df['Кухня'].max()"
   ]
  },
  {
   "cell_type": "markdown",
   "metadata": {},
   "source": [
    "### Обработка признака \"Название\""
   ]
  },
  {
   "cell_type": "code",
   "execution_count": 68,
   "metadata": {},
   "outputs": [],
   "source": [
    "cian_df['Название'] = cian_df['Название'].apply(lambda x: x.split(',')[0])"
   ]
  },
  {
   "cell_type": "code",
   "execution_count": 69,
   "metadata": {},
   "outputs": [
    {
     "data": {
      "text/plain": [
       "2-комн. квартира                    8391\n",
       "3-комн. квартира                    8315\n",
       "1-комн. квартира                    7176\n",
       "Студия                              3094\n",
       "4-комн. квартира                    2473\n",
       "5-комн. квартира                     758\n",
       "Многокомнатная квартира              635\n",
       "Апартаменты-студия                   406\n",
       "1-комн. апартаменты                  304\n",
       "2-комн. апартаменты                  282\n",
       "3-комн. апартаменты                   87\n",
       "Квартира свободной планировки         42\n",
       "4-комн. апартаменты                   42\n",
       "Апартаменты свободной планировки      21\n",
       "Многокомнатные апартаменты            14\n",
       "5-комн. апартаменты                    9\n",
       "19/353 квартиры                        1\n",
       "Name: Название, dtype: int64"
      ]
     },
     "execution_count": 69,
     "metadata": {},
     "output_type": "execute_result"
    }
   ],
   "source": [
    "cian_df['Название'].value_counts()"
   ]
  },
  {
   "cell_type": "code",
   "execution_count": 70,
   "metadata": {},
   "outputs": [
    {
     "name": "stderr",
     "output_type": "stream",
     "text": [
      "D:\\Users\\User\\Anaconda3\\lib\\site-packages\\ipykernel_launcher.py:1: SettingWithCopyWarning: \n",
      "A value is trying to be set on a copy of a slice from a DataFrame\n",
      "\n",
      "See the caveats in the documentation: https://pandas.pydata.org/pandas-docs/stable/user_guide/indexing.html#returning-a-view-versus-a-copy\n",
      "  \"\"\"Entry point for launching an IPython kernel.\n"
     ]
    }
   ],
   "source": [
    "cian_df['Название'][(cian_df['Название']=='Апартаменты свободной планировки')|(cian_df['Название']=='19/353 квартиры')|(cian_df['Название']=='Квартира свободной планировки')]=np.nan\n",
    "cian_df=cian_df.dropna(subset=['Название'])"
   ]
  },
  {
   "cell_type": "code",
   "execution_count": 71,
   "metadata": {},
   "outputs": [],
   "source": [
    "def rename(x):\n",
    "    if x == 'Апартаменты-студия':\n",
    "        a='Студия'\n",
    "        return a\n",
    "    if x == '1-комн. апартаменты':\n",
    "        a='1-комн. квартира'\n",
    "        return a\n",
    "    if x == '2-комн. апартаменты':\n",
    "        a='2-комн. квартира'\n",
    "        return a \n",
    "    if x == '3-комн. апартаменты':\n",
    "        a='3-комн. квартира'\n",
    "        return a\n",
    "    if x == '4-комн. апартаменты':\n",
    "        a='4-комн. квартира'\n",
    "        return a\n",
    "    if x == '5-комн. апартаменты':\n",
    "        a='5-комн. квартира'\n",
    "        return a\n",
    "    if x == 'Многокомнатные апартаменты':\n",
    "        a='Многокомнатная квартира'\n",
    "        return a\n",
    "    else:\n",
    "        return x"
   ]
  },
  {
   "cell_type": "code",
   "execution_count": 72,
   "metadata": {},
   "outputs": [
    {
     "data": {
      "text/plain": [
       "2-комн. квартира           8673\n",
       "3-комн. квартира           8402\n",
       "1-комн. квартира           7480\n",
       "Студия                     3500\n",
       "4-комн. квартира           2515\n",
       "5-комн. квартира            767\n",
       "Многокомнатная квартира     649\n",
       "Name: Название, dtype: int64"
      ]
     },
     "execution_count": 72,
     "metadata": {},
     "output_type": "execute_result"
    }
   ],
   "source": [
    "cian_df['Название'] = cian_df['Название'].apply(rename)\n",
    "cian_df['Название'].value_counts()"
   ]
  },
  {
   "cell_type": "markdown",
   "metadata": {},
   "source": [
    "### Обработка признака \"Цена за квадрат\""
   ]
  },
  {
   "cell_type": "code",
   "execution_count": 73,
   "metadata": {},
   "outputs": [],
   "source": [
    "def replace_price_per_square(x):\n",
    "    try:\n",
    "        x=x.replace(' ','')\n",
    "    except:\n",
    "        pass\n",
    "    return x"
   ]
  },
  {
   "cell_type": "code",
   "execution_count": 74,
   "metadata": {},
   "outputs": [],
   "source": [
    "cian_df['Цена за квадрат'] = cian_df['Цена за квадрат'].apply(replace_price_per_square)\n",
    "cian_df['Цена за квадрат']=cian_df['Цена за квадрат'].apply(lambda x:int(x))"
   ]
  },
  {
   "cell_type": "code",
   "execution_count": 75,
   "metadata": {},
   "outputs": [],
   "source": [
    "#Но вообще он очень сильно коррелирует с целевой переменной, поэтому удаляем:\n",
    "cian_df=cian_df.drop('Цена за квадрат', axis=1)"
   ]
  },
  {
   "cell_type": "markdown",
   "metadata": {},
   "source": [
    "### Обработка признака \"Адрес\""
   ]
  },
  {
   "cell_type": "code",
   "execution_count": 76,
   "metadata": {},
   "outputs": [],
   "source": [
    "#Разобьём адрес на район, микрорайон, улицу. Это будет служить для дальнейшего заполнения пропусков:\n",
    "cian_df['Район'] = cian_df['Адрес'].apply(lambda x: str(x.split(',')[1:2]).replace('[','').replace(']','').replace(\"'\",''))\n",
    "cian_df['Микрорайон'] = cian_df['Адрес'].apply(lambda x: str(x.split(',')[2:3]).replace('[','').replace(']','').replace(\"'\",''))\n",
    "cian_df['Улица'] = cian_df['Адрес'].apply(lambda x: str(x.split(',')[3:4]).replace('[','').replace(']','').replace(\"'\",''))"
   ]
  },
  {
   "cell_type": "markdown",
   "metadata": {},
   "source": [
    "### Обработка признака \"Этаж\""
   ]
  },
  {
   "cell_type": "code",
   "execution_count": 77,
   "metadata": {},
   "outputs": [],
   "source": [
    "#Создадим признак \"этажей в доме\":\n",
    "cian_df['Этажей в доме'] = cian_df.Этаж.apply(lambda x: int(x.split(' ')[2]))"
   ]
  },
  {
   "cell_type": "code",
   "execution_count": 78,
   "metadata": {},
   "outputs": [],
   "source": [
    "cian_df.Этаж = cian_df.Этаж.apply(lambda x: int(x.split(' ')[0]))"
   ]
  },
  {
   "cell_type": "markdown",
   "metadata": {},
   "source": [
    "### Обработка признака \"Время до метро\""
   ]
  },
  {
   "cell_type": "markdown",
   "metadata": {},
   "source": [
    "#### **Переводим время до метро на транспорте в время до метро пешком**"
   ]
  },
  {
   "cell_type": "code",
   "execution_count": 79,
   "metadata": {},
   "outputs": [
    {
     "name": "stderr",
     "output_type": "stream",
     "text": [
      "D:\\Users\\User\\Anaconda3\\lib\\site-packages\\ipykernel_launcher.py:2: SettingWithCopyWarning: \n",
      "A value is trying to be set on a copy of a slice from a DataFrame\n",
      "\n",
      "See the caveats in the documentation: https://pandas.pydata.org/pandas-docs/stable/user_guide/indexing.html#returning-a-view-versus-a-copy\n",
      "  \n"
     ]
    }
   ],
   "source": [
    "#Для тех значений, где метро откроется в 2022 году, изначально поставим NaN\n",
    "cian_df['Время до метро'][cian_df['Время до метро']==' откроется в 2022']=cian_df['Время до метро'][cian_df['Время до метро']==' откроется в 2022'].apply(lambda x: np.nan)"
   ]
  },
  {
   "cell_type": "markdown",
   "metadata": {},
   "source": [
    "**Соотношение между временем на транспорте и временем пешком, на основе анализа по яндекс-картам (приблизительно):**\n",
    "\n",
    "20 мин на транспорте - 20 мин пешком\n",
    "\n",
    "30 тр - 45 пеш\n",
    "\n",
    "45 тр - 90 пеш\n",
    "\n",
    "90 тр - 280 пеш\n"
   ]
  },
  {
   "cell_type": "code",
   "execution_count": 80,
   "metadata": {},
   "outputs": [],
   "source": [
    "#На основе этих данных написана функция по переводу минут на транспорте в минуты пешком:\n",
    "def time_more_than_twenty(x):\n",
    "    for i in range (1,11):    \n",
    "        if x==20+i:            #если время на транспорте до метро занимает от 21 до 30 минут включительно\n",
    "            x=x*(1.04**i)\n",
    "    for k in range (1,16):\n",
    "        if x==30+k:            #если время на транспорте до метро занимает от 31 до 45 минут включительно\n",
    "            x=x*1.5*(1.02**k)\n",
    "    for m in range (1,46):\n",
    "        if x==45+m:            #если время на транспорте до метро занимает от 46 до 90 минут включительно\n",
    "            x=x*2*(1.01**m)\n",
    "    return x"
   ]
  },
  {
   "cell_type": "code",
   "execution_count": 81,
   "metadata": {},
   "outputs": [],
   "source": [
    "def on_transport(x):\n",
    "    if 'на транспорте' in x:\n",
    "        return x"
   ]
  },
  {
   "cell_type": "code",
   "execution_count": 82,
   "metadata": {},
   "outputs": [],
   "source": [
    "time_to_the_subway=cian_df['Время до метро'].dropna()"
   ]
  },
  {
   "cell_type": "code",
   "execution_count": 83,
   "metadata": {},
   "outputs": [],
   "source": [
    "time_to_the_subway_on_transport=time_to_the_subway.apply(on_transport)"
   ]
  },
  {
   "cell_type": "code",
   "execution_count": 84,
   "metadata": {},
   "outputs": [],
   "source": [
    "time_to_the_subway_on_transport = time_to_the_subway_on_transport.dropna()"
   ]
  },
  {
   "cell_type": "code",
   "execution_count": 85,
   "metadata": {},
   "outputs": [],
   "source": [
    "time_to_the_subway_on_transport = time_to_the_subway_on_transport.apply(lambda x:int(x.replace(' мин. на транспорте','').replace(' ','').replace('⋅','').replace('<','')))"
   ]
  },
  {
   "cell_type": "code",
   "execution_count": 86,
   "metadata": {},
   "outputs": [
    {
     "data": {
      "text/plain": [
       "array([21, 22, 23, 24, 25, 26, 27, 28, 29, 30, 31, 32, 33, 34, 35, 36, 37,\n",
       "       38, 39, 40, 41, 42, 43, 44, 45, 46, 47, 48, 49, 50, 51, 52, 53, 54,\n",
       "       56, 57, 58, 59, 60, 61, 62, 63, 65, 66, 68, 70, 71, 74, 75, 82, 83,\n",
       "       84, 87, 90], dtype=int64)"
      ]
     },
     "execution_count": 86,
     "metadata": {},
     "output_type": "execute_result"
    }
   ],
   "source": [
    "np.sort(time_to_the_subway_on_transport[time_to_the_subway_on_transport>20].unique())"
   ]
  },
  {
   "cell_type": "code",
   "execution_count": 87,
   "metadata": {},
   "outputs": [],
   "source": [
    "time_to_the_subway_on_transport[time_to_the_subway_on_transport>20] = time_to_the_subway_on_transport[time_to_the_subway_on_transport>20].apply(time_more_than_twenty)"
   ]
  },
  {
   "cell_type": "code",
   "execution_count": 88,
   "metadata": {},
   "outputs": [],
   "source": [
    "time_to_the_subway[time_to_the_subway_on_transport.index]=time_to_the_subway_on_transport"
   ]
  },
  {
   "cell_type": "code",
   "execution_count": 89,
   "metadata": {},
   "outputs": [],
   "source": [
    "time_to_the_subway = time_to_the_subway.apply(lambda x:str(x))"
   ]
  },
  {
   "cell_type": "code",
   "execution_count": 90,
   "metadata": {},
   "outputs": [],
   "source": [
    "time_to_the_subway = time_to_the_subway.apply(lambda x:float(x.replace(' мин. пешком','').replace(' ','').replace('⋅','').replace('<','')))"
   ]
  },
  {
   "cell_type": "code",
   "execution_count": 91,
   "metadata": {},
   "outputs": [
    {
     "name": "stderr",
     "output_type": "stream",
     "text": [
      "D:\\Users\\User\\Anaconda3\\lib\\site-packages\\ipykernel_launcher.py:1: SettingWithCopyWarning: \n",
      "A value is trying to be set on a copy of a slice from a DataFrame\n",
      "\n",
      "See the caveats in the documentation: https://pandas.pydata.org/pandas-docs/stable/user_guide/indexing.html#returning-a-view-versus-a-copy\n",
      "  \"\"\"Entry point for launching an IPython kernel.\n"
     ]
    }
   ],
   "source": [
    "cian_df['Время до метро'][time_to_the_subway.index]=time_to_the_subway"
   ]
  },
  {
   "cell_type": "markdown",
   "metadata": {},
   "source": [
    "### Обработка признака \"Построен\""
   ]
  },
  {
   "cell_type": "code",
   "execution_count": 92,
   "metadata": {},
   "outputs": [
    {
     "data": {
      "text/plain": [
       "11503"
      ]
     },
     "execution_count": 92,
     "metadata": {},
     "output_type": "execute_result"
    }
   ],
   "source": [
    "cian_df['Построен'].isna().sum()"
   ]
  },
  {
   "cell_type": "code",
   "execution_count": 93,
   "metadata": {},
   "outputs": [
    {
     "data": {
      "text/plain": [
       "14468"
      ]
     },
     "execution_count": 93,
     "metadata": {},
     "output_type": "execute_result"
    }
   ],
   "source": [
    "cian_df['Год постройки'].isna().sum()"
   ]
  },
  {
   "cell_type": "code",
   "execution_count": 94,
   "metadata": {},
   "outputs": [
    {
     "name": "stderr",
     "output_type": "stream",
     "text": [
      "D:\\Users\\User\\Anaconda3\\lib\\site-packages\\ipykernel_launcher.py:3: SettingWithCopyWarning: \n",
      "A value is trying to be set on a copy of a slice from a DataFrame\n",
      "\n",
      "See the caveats in the documentation: https://pandas.pydata.org/pandas-docs/stable/user_guide/indexing.html#returning-a-view-versus-a-copy\n",
      "  This is separate from the ipykernel package so we can avoid doing imports until\n",
      "D:\\Users\\User\\Anaconda3\\lib\\site-packages\\ipykernel_launcher.py:4: SettingWithCopyWarning: \n",
      "A value is trying to be set on a copy of a slice from a DataFrame\n",
      "\n",
      "See the caveats in the documentation: https://pandas.pydata.org/pandas-docs/stable/user_guide/indexing.html#returning-a-view-versus-a-copy\n",
      "  after removing the cwd from sys.path.\n"
     ]
    }
   ],
   "source": [
    "#Может быть так, что в одной из двух колонок присутствует значение года постройки. \n",
    "#Проверим это и обоюдно дополним данные:\n",
    "cian_df['Построен'][cian_df['Год постройки'].dropna().index]=cian_df['Год постройки'][cian_df['Год постройки'].dropna().index]\n",
    "cian_df['Год постройки'][cian_df['Построен'].dropna().index]=cian_df['Построен'][cian_df['Построен'].dropna().index]"
   ]
  },
  {
   "cell_type": "code",
   "execution_count": 95,
   "metadata": {},
   "outputs": [],
   "source": [
    "#Уберём лишний признак:\n",
    "cian_df = cian_df.drop('Год постройки',axis=1)"
   ]
  },
  {
   "cell_type": "markdown",
   "metadata": {},
   "source": [
    "### Обработка признака \"Тип жилья\" и \"Построен\""
   ]
  },
  {
   "cell_type": "code",
   "execution_count": 96,
   "metadata": {},
   "outputs": [
    {
     "name": "stderr",
     "output_type": "stream",
     "text": [
      "D:\\Users\\User\\Anaconda3\\lib\\site-packages\\ipykernel_launcher.py:3: SettingWithCopyWarning: \n",
      "A value is trying to be set on a copy of a slice from a DataFrame\n",
      "\n",
      "See the caveats in the documentation: https://pandas.pydata.org/pandas-docs/stable/user_guide/indexing.html#returning-a-view-versus-a-copy\n",
      "  This is separate from the ipykernel package so we can avoid doing imports until\n"
     ]
    }
   ],
   "source": [
    "#Год постройки в новостройках отсутствует, но на циане есть информация, что год постройки - 2022. \n",
    "#Вобьём его для пропущенных значений \"Тип жилья\":\n",
    "cian_df['Построен'][cian_df['Тип жилья'].isnull()] = cian_df['Построен'][cian_df['Тип жилья'].isnull()].fillna(2022.0)"
   ]
  },
  {
   "cell_type": "code",
   "execution_count": 97,
   "metadata": {},
   "outputs": [
    {
     "name": "stderr",
     "output_type": "stream",
     "text": [
      "D:\\Users\\User\\Anaconda3\\lib\\site-packages\\ipykernel_launcher.py:2: SettingWithCopyWarning: \n",
      "A value is trying to be set on a copy of a slice from a DataFrame\n",
      "\n",
      "See the caveats in the documentation: https://pandas.pydata.org/pandas-docs/stable/user_guide/indexing.html#returning-a-view-versus-a-copy\n",
      "  \n"
     ]
    }
   ],
   "source": [
    "#Если год постройки = 2022, соответственно тип жилья - новостройка. Заполним пропуски:\n",
    "cian_df['Тип жилья'][(cian_df['Тип жилья'].isnull())&(cian_df['Построен']==2022.0)] = cian_df['Тип жилья'][(cian_df['Тип жилья'].isnull())&(cian_df['Построен']==2022.0)].fillna('Новостройка')"
   ]
  },
  {
   "cell_type": "code",
   "execution_count": 98,
   "metadata": {},
   "outputs": [
    {
     "name": "stderr",
     "output_type": "stream",
     "text": [
      "D:\\Users\\User\\Anaconda3\\lib\\site-packages\\ipykernel_launcher.py:2: SettingWithCopyWarning: \n",
      "A value is trying to be set on a copy of a slice from a DataFrame\n",
      "\n",
      "See the caveats in the documentation: https://pandas.pydata.org/pandas-docs/stable/user_guide/indexing.html#returning-a-view-versus-a-copy\n",
      "  \n"
     ]
    }
   ],
   "source": [
    "#Оставшиеся пропуски - вторички:\n",
    "cian_df['Тип жилья'][cian_df['Тип жилья'].isnull()] = cian_df['Тип жилья'][cian_df['Тип жилья'].isnull()].fillna('Вторичка')"
   ]
  },
  {
   "cell_type": "code",
   "execution_count": 99,
   "metadata": {},
   "outputs": [],
   "source": [
    "def rename1(x):\n",
    "    if x == 'Вторичка Апартаменты':\n",
    "        a='Вторичка'\n",
    "        return a\n",
    "    if x == 'Вторичка Пентхаус':\n",
    "        a='Вторичка'\n",
    "        return a\n",
    "    if x == 'Новостройка Апартаменты':\n",
    "        a='Новостройка'\n",
    "        return a \n",
    "    if x == 'Новостройка Пентхаус':\n",
    "        a='Новостройка'\n",
    "        return a\n",
    "    else:\n",
    "        return x"
   ]
  },
  {
   "cell_type": "code",
   "execution_count": 100,
   "metadata": {},
   "outputs": [],
   "source": [
    "#Переименуем типы жилья, чтобы на выходе получилось 2 типа: Новостройка и Вторичка:\n",
    "cian_df['Тип жилья'] = cian_df['Тип жилья'].apply(rename1)"
   ]
  },
  {
   "cell_type": "code",
   "execution_count": 101,
   "metadata": {},
   "outputs": [
    {
     "name": "stderr",
     "output_type": "stream",
     "text": [
      "D:\\Users\\User\\Anaconda3\\lib\\site-packages\\ipykernel_launcher.py:2: SettingWithCopyWarning: \n",
      "A value is trying to be set on a copy of a slice from a DataFrame\n",
      "\n",
      "See the caveats in the documentation: https://pandas.pydata.org/pandas-docs/stable/user_guide/indexing.html#returning-a-view-versus-a-copy\n",
      "  \n"
     ]
    }
   ],
   "source": [
    "#Заполним пропуски года постройки для новостроек:\n",
    "cian_df['Построен'][cian_df['Тип жилья']=='Новостройка']=cian_df['Построен'][cian_df['Тип жилья']=='Новостройка'].fillna(2022.0)"
   ]
  },
  {
   "cell_type": "markdown",
   "metadata": {},
   "source": [
    "### Обработка признака \"Высота потолков\""
   ]
  },
  {
   "cell_type": "code",
   "execution_count": 102,
   "metadata": {},
   "outputs": [
    {
     "name": "stderr",
     "output_type": "stream",
     "text": [
      "D:\\Users\\User\\Anaconda3\\lib\\site-packages\\ipykernel_launcher.py:1: SettingWithCopyWarning: \n",
      "A value is trying to be set on a copy of a slice from a DataFrame\n",
      "\n",
      "See the caveats in the documentation: https://pandas.pydata.org/pandas-docs/stable/user_guide/indexing.html#returning-a-view-versus-a-copy\n",
      "  \"\"\"Entry point for launching an IPython kernel.\n"
     ]
    }
   ],
   "source": [
    "cian_df['Высота потолков'][cian_df['Высота потолков'].notnull()] = cian_df['Высота потолков'][cian_df['Высота потолков'].notnull()].apply(lambda x: float(x.replace(',','.').replace(' м','')))"
   ]
  },
  {
   "cell_type": "code",
   "execution_count": 103,
   "metadata": {},
   "outputs": [
    {
     "data": {
      "text/plain": [
       "0.2"
      ]
     },
     "execution_count": 103,
     "metadata": {},
     "output_type": "execute_result"
    }
   ],
   "source": [
    "cian_df['Высота потолков'].min()"
   ]
  },
  {
   "cell_type": "code",
   "execution_count": 104,
   "metadata": {},
   "outputs": [
    {
     "data": {
      "text/plain": [
       "33.0"
      ]
     },
     "execution_count": 104,
     "metadata": {},
     "output_type": "execute_result"
    }
   ],
   "source": [
    "cian_df['Высота потолков'].max()"
   ]
  },
  {
   "cell_type": "code",
   "execution_count": 105,
   "metadata": {},
   "outputs": [
    {
     "name": "stderr",
     "output_type": "stream",
     "text": [
      "D:\\Users\\User\\Anaconda3\\lib\\site-packages\\ipykernel_launcher.py:2: SettingWithCopyWarning: \n",
      "A value is trying to be set on a copy of a slice from a DataFrame\n",
      "\n",
      "See the caveats in the documentation: https://pandas.pydata.org/pandas-docs/stable/user_guide/indexing.html#returning-a-view-versus-a-copy\n",
      "  \n"
     ]
    }
   ],
   "source": [
    "#Заменим высоту потолков в данных ниже минимальной (2,4 м) по России на эту высоту:\n",
    "cian_df['Высота потолков'][cian_df['Высота потолков']<2.4] = 2.4"
   ]
  },
  {
   "cell_type": "code",
   "execution_count": 106,
   "metadata": {},
   "outputs": [
    {
     "name": "stderr",
     "output_type": "stream",
     "text": [
      "D:\\Users\\User\\Anaconda3\\lib\\site-packages\\ipykernel_launcher.py:2: SettingWithCopyWarning: \n",
      "A value is trying to be set on a copy of a slice from a DataFrame\n",
      "\n",
      "See the caveats in the documentation: https://pandas.pydata.org/pandas-docs/stable/user_guide/indexing.html#returning-a-view-versus-a-copy\n",
      "  \n"
     ]
    }
   ],
   "source": [
    "#Поставим пропущенные значения для студий, 1,2,3-х комнатных квартир, где высота по данным выше 7 метров:\n",
    "cian_df['Высота потолков'][(cian_df['Высота потолков']>7.0)&(cian_df['Название']!='Многокомнатная квартира')]=np.nan"
   ]
  },
  {
   "cell_type": "markdown",
   "metadata": {},
   "source": [
    "### Обработка признака \"Лифты\""
   ]
  },
  {
   "cell_type": "code",
   "execution_count": 107,
   "metadata": {},
   "outputs": [
    {
     "name": "stderr",
     "output_type": "stream",
     "text": [
      "D:\\Users\\User\\Anaconda3\\lib\\site-packages\\ipykernel_launcher.py:2: SettingWithCopyWarning: \n",
      "A value is trying to be set on a copy of a slice from a DataFrame\n",
      "\n",
      "See the caveats in the documentation: https://pandas.pydata.org/pandas-docs/stable/user_guide/indexing.html#returning-a-view-versus-a-copy\n",
      "  \n"
     ]
    }
   ],
   "source": [
    "#Заполним пропуски для пропущенных значений, где количество этажей в доме =5 и меньше\n",
    "cian_df['Лифты'][(cian_df['Лифты'].isnull())&(cian_df['Этажей в доме']<6)] = cian_df['Лифты'][(cian_df['Лифты'].isnull())&(cian_df['Этажей в доме']<6)].fillna('Нет')"
   ]
  },
  {
   "cell_type": "code",
   "execution_count": 108,
   "metadata": {},
   "outputs": [
    {
     "data": {
      "text/html": [
       "<div>\n",
       "<style scoped>\n",
       "    .dataframe tbody tr th:only-of-type {\n",
       "        vertical-align: middle;\n",
       "    }\n",
       "\n",
       "    .dataframe tbody tr th {\n",
       "        vertical-align: top;\n",
       "    }\n",
       "\n",
       "    .dataframe thead th {\n",
       "        text-align: right;\n",
       "    }\n",
       "</style>\n",
       "<table border=\"1\" class=\"dataframe\">\n",
       "  <thead>\n",
       "    <tr style=\"text-align: right;\">\n",
       "      <th></th>\n",
       "      <th>Название</th>\n",
       "      <th>Описание</th>\n",
       "      <th>Адрес</th>\n",
       "      <th>Метро</th>\n",
       "      <th>Время до метро</th>\n",
       "      <th>Цена</th>\n",
       "      <th>Общая</th>\n",
       "      <th>Жилая</th>\n",
       "      <th>Кухня</th>\n",
       "      <th>Этаж</th>\n",
       "      <th>Построен</th>\n",
       "      <th>Тип жилья</th>\n",
       "      <th>Площадь комнат+ обозначение смежных комнат- обозначение изолированных комнат</th>\n",
       "      <th>Высота потолков</th>\n",
       "      <th>Санузел</th>\n",
       "      <th>Балкон/лоджия</th>\n",
       "      <th>Ремонт</th>\n",
       "      <th>Вид из окон</th>\n",
       "      <th>Тип дома</th>\n",
       "      <th>Тип перекрытий</th>\n",
       "      <th>Подъезды</th>\n",
       "      <th>Лифты</th>\n",
       "      <th>Отопление</th>\n",
       "      <th>Аварийность</th>\n",
       "      <th>Район</th>\n",
       "      <th>Микрорайон</th>\n",
       "      <th>Улица</th>\n",
       "      <th>Этажей в доме</th>\n",
       "    </tr>\n",
       "  </thead>\n",
       "  <tbody>\n",
       "    <tr>\n",
       "      <th>0</th>\n",
       "      <td>2-комн. квартира</td>\n",
       "      <td>Арт. 36084264 Продаётся 2-к.квартира общей пло...</td>\n",
       "      <td>Санкт-Петербург, р-н Кировский, Дачное, Ленинс...</td>\n",
       "      <td>Автово</td>\n",
       "      <td>15</td>\n",
       "      <td>6700000.0</td>\n",
       "      <td>48.4</td>\n",
       "      <td>28.6</td>\n",
       "      <td>8.0</td>\n",
       "      <td>3</td>\n",
       "      <td>1988.0</td>\n",
       "      <td>Вторичка</td>\n",
       "      <td>12.7-15.9 м²</td>\n",
       "      <td>2.5</td>\n",
       "      <td>1 совмещенный</td>\n",
       "      <td>1 балкон</td>\n",
       "      <td>Евроремонт</td>\n",
       "      <td>На улицу и двор</td>\n",
       "      <td>Кирпичный</td>\n",
       "      <td>Железобетонные</td>\n",
       "      <td>3.0</td>\n",
       "      <td>Есть</td>\n",
       "      <td>Центральное</td>\n",
       "      <td>Нет</td>\n",
       "      <td>р-н Кировский</td>\n",
       "      <td>Дачное</td>\n",
       "      <td>Ленинский просп.</td>\n",
       "      <td>7</td>\n",
       "    </tr>\n",
       "    <tr>\n",
       "      <th>1</th>\n",
       "      <td>4-комн. квартира</td>\n",
       "      <td>Арт. 43292484 Продаётся 4 комнатная коммунальн...</td>\n",
       "      <td>Санкт-Петербург, р-н Кировский, Автово, просп....</td>\n",
       "      <td>Автово</td>\n",
       "      <td>5</td>\n",
       "      <td>10900000.0</td>\n",
       "      <td>113.4</td>\n",
       "      <td>80.0</td>\n",
       "      <td>10.0</td>\n",
       "      <td>5</td>\n",
       "      <td>1956.0</td>\n",
       "      <td>Вторичка</td>\n",
       "      <td>20.2-14-21.7-24.1 м²</td>\n",
       "      <td>3</td>\n",
       "      <td>1 раздельный</td>\n",
       "      <td>NaN</td>\n",
       "      <td>Без ремонта</td>\n",
       "      <td>На улицу и двор</td>\n",
       "      <td>Кирпичный</td>\n",
       "      <td>Железобетонные</td>\n",
       "      <td>5.0</td>\n",
       "      <td>Есть</td>\n",
       "      <td>Центральное</td>\n",
       "      <td>Нет</td>\n",
       "      <td>р-н Кировский</td>\n",
       "      <td>Автово</td>\n",
       "      <td>просп. Стачек</td>\n",
       "      <td>7</td>\n",
       "    </tr>\n",
       "    <tr>\n",
       "      <th>2</th>\n",
       "      <td>3-комн. квартира</td>\n",
       "      <td>Арт. 43572482 В продаже просторная трёхкомнатн...</td>\n",
       "      <td>Санкт-Петербург, р-н Кировский, Автово, просп....</td>\n",
       "      <td>Автово</td>\n",
       "      <td>8</td>\n",
       "      <td>14000000.0</td>\n",
       "      <td>103.0</td>\n",
       "      <td>63.5</td>\n",
       "      <td>20.0</td>\n",
       "      <td>3</td>\n",
       "      <td>1954.0</td>\n",
       "      <td>Вторичка</td>\n",
       "      <td>22.5-17-24 м²</td>\n",
       "      <td>3.2</td>\n",
       "      <td>1 раздельный</td>\n",
       "      <td>NaN</td>\n",
       "      <td>Косметический</td>\n",
       "      <td>На улицу и двор</td>\n",
       "      <td>Кирпичный</td>\n",
       "      <td>Железобетонные</td>\n",
       "      <td>6.0</td>\n",
       "      <td>Есть</td>\n",
       "      <td>Центральное</td>\n",
       "      <td>Нет</td>\n",
       "      <td>р-н Кировский</td>\n",
       "      <td>Автово</td>\n",
       "      <td>просп. Стачек</td>\n",
       "      <td>6</td>\n",
       "    </tr>\n",
       "  </tbody>\n",
       "</table>\n",
       "</div>"
      ],
      "text/plain": [
       "           Название                                           Описание  \\\n",
       "0  2-комн. квартира  Арт. 36084264 Продаётся 2-к.квартира общей пло...   \n",
       "1  4-комн. квартира  Арт. 43292484 Продаётся 4 комнатная коммунальн...   \n",
       "2  3-комн. квартира  Арт. 43572482 В продаже просторная трёхкомнатн...   \n",
       "\n",
       "                                               Адрес   Метро Время до метро  \\\n",
       "0  Санкт-Петербург, р-н Кировский, Дачное, Ленинс...  Автово             15   \n",
       "1  Санкт-Петербург, р-н Кировский, Автово, просп....  Автово              5   \n",
       "2  Санкт-Петербург, р-н Кировский, Автово, просп....  Автово              8   \n",
       "\n",
       "         Цена  Общая  Жилая  Кухня  Этаж  Построен Тип жилья  \\\n",
       "0   6700000.0   48.4   28.6    8.0     3    1988.0  Вторичка   \n",
       "1  10900000.0  113.4   80.0   10.0     5    1956.0  Вторичка   \n",
       "2  14000000.0  103.0   63.5   20.0     3    1954.0  Вторичка   \n",
       "\n",
       "  Площадь комнат+ обозначение смежных комнат- обозначение изолированных комнат  \\\n",
       "0                                       12.7-15.9 м²                             \n",
       "1                               20.2-14-21.7-24.1 м²                             \n",
       "2                                      22.5-17-24 м²                             \n",
       "\n",
       "  Высота потолков        Санузел Балкон/лоджия         Ремонт  \\\n",
       "0             2.5  1 совмещенный      1 балкон     Евроремонт   \n",
       "1               3   1 раздельный           NaN    Без ремонта   \n",
       "2             3.2   1 раздельный           NaN  Косметический   \n",
       "\n",
       "       Вид из окон   Тип дома  Тип перекрытий  Подъезды Лифты    Отопление  \\\n",
       "0  На улицу и двор  Кирпичный  Железобетонные       3.0  Есть  Центральное   \n",
       "1  На улицу и двор  Кирпичный  Железобетонные       5.0  Есть  Центральное   \n",
       "2  На улицу и двор  Кирпичный  Железобетонные       6.0  Есть  Центральное   \n",
       "\n",
       "  Аварийность           Район Микрорайон              Улица  Этажей в доме  \n",
       "0         Нет   р-н Кировский     Дачное   Ленинский просп.              7  \n",
       "1         Нет   р-н Кировский     Автово      просп. Стачек              7  \n",
       "2         Нет   р-н Кировский     Автово      просп. Стачек              6  "
      ]
     },
     "execution_count": 108,
     "metadata": {},
     "output_type": "execute_result"
    }
   ],
   "source": [
    "cian_df.head(3)"
   ]
  },
  {
   "cell_type": "markdown",
   "metadata": {},
   "source": [
    "## ОБРАБОТКА ПРОПУСКОВ ПО АДРЕСУ, УЛИЦЕ, МИКРОРАЙОНУ, РАЙОНУ"
   ]
  },
  {
   "cell_type": "code",
   "execution_count": 110,
   "metadata": {},
   "outputs": [
    {
     "data": {
      "text/plain": [
       "Название                                                                            0\n",
       "Описание                                                                            0\n",
       "Адрес                                                                               0\n",
       "Метро                                                                            2387\n",
       "Время до метро                                                                   2716\n",
       "Цена                                                                                0\n",
       "Общая                                                                               0\n",
       "Жилая                                                                               0\n",
       "Кухня                                                                               0\n",
       "Этаж                                                                                0\n",
       "Построен                                                                         1897\n",
       "Тип жилья                                                                           0\n",
       "Площадь комнат+ обозначение смежных комнат- обозначение изолированных комнат     6296\n",
       "Высота потолков                                                                 16784\n",
       "Санузел                                                                          4796\n",
       "Балкон/лоджия                                                                   12362\n",
       "Ремонт                                                                          12674\n",
       "Вид из окон                                                                     13966\n",
       "Тип дома                                                                        10655\n",
       "Тип перекрытий                                                                  15559\n",
       "Подъезды                                                                        14787\n",
       "Лифты                                                                            8182\n",
       "Отопление                                                                       15271\n",
       "Аварийность                                                                     14095\n",
       "Район                                                                               0\n",
       "Микрорайон                                                                          0\n",
       "Улица                                                                               0\n",
       "Этажей в доме                                                                       0\n",
       "dtype: int64"
      ]
     },
     "execution_count": 110,
     "metadata": {},
     "output_type": "execute_result"
    }
   ],
   "source": [
    "cian_df.isna().sum()"
   ]
  },
  {
   "cell_type": "code",
   "execution_count": 112,
   "metadata": {},
   "outputs": [],
   "source": [
    "#Список имён категориальных признаков:\n",
    "list_categorical_features = ['Метро','Санузел','Балкон/лоджия','Тип дома','Тип перекрытий','Лифты','Отопление']\n",
    "\n",
    "#Список имён числовых признаков:\n",
    "list_numeric_features = ['Время до метро','Построен','Высота потолков','Подъезды']  \n",
    "\n",
    "#Части адреса, которые по порядку будет проходить цикл:\n",
    "parts_of_adress=['Адрес','Улица','Микрорайон','Район']                            "
   ]
  },
  {
   "cell_type": "code",
   "execution_count": 115,
   "metadata": {},
   "outputs": [
    {
     "name": "stderr",
     "output_type": "stream",
     "text": [
      "D:\\Users\\User\\Anaconda3\\lib\\site-packages\\ipykernel_launcher.py:9: SettingWithCopyWarning: \n",
      "A value is trying to be set on a copy of a slice from a DataFrame\n",
      "\n",
      "See the caveats in the documentation: https://pandas.pydata.org/pandas-docs/stable/user_guide/indexing.html#returning-a-view-versus-a-copy\n",
      "  if __name__ == '__main__':\n"
     ]
    }
   ],
   "source": [
    "#Заполним пропущенные значения категориального признака самым частым значением в зависимости \n",
    "#от адреса, затем - от улицы, затем - от микрорайона, оставшиеся (если остались) - от района:\n",
    "\n",
    "for feature in list_categorical_features:\n",
    "    for part in parts_of_adress:\n",
    "        try:\n",
    "            for title in cian_df[part][cian_df[feature].isnull()].unique():\n",
    "                try:\n",
    "                    cian_df[feature][(cian_df[feature].isnull())&(cian_df[part]==title)]=cian_df[feature][cian_df[part]==title].value_counts().index[0]\n",
    "                except:\n",
    "                    pass\n",
    "        except:\n",
    "            pass   "
   ]
  },
  {
   "cell_type": "code",
   "execution_count": 116,
   "metadata": {},
   "outputs": [
    {
     "name": "stderr",
     "output_type": "stream",
     "text": [
      "D:\\Users\\User\\Anaconda3\\lib\\site-packages\\ipykernel_launcher.py:9: SettingWithCopyWarning: \n",
      "A value is trying to be set on a copy of a slice from a DataFrame\n",
      "\n",
      "See the caveats in the documentation: https://pandas.pydata.org/pandas-docs/stable/user_guide/indexing.html#returning-a-view-versus-a-copy\n",
      "  if __name__ == '__main__':\n"
     ]
    }
   ],
   "source": [
    "#Заполним пропущенные значения числового признака средним значением в зависимости \n",
    "#от адреса, затем - от улицы, затем - от микрорайона, оставшиеся(если остались) - от района:\n",
    "\n",
    "for feature in list_numeric_features:\n",
    "    for part in parts_of_adress:\n",
    "        try:\n",
    "            for title in cian_df[part][cian_df[feature].isnull()].unique():\n",
    "                try:\n",
    "                    cian_df[feature][(cian_df[feature].isnull())&(cian_df[part]==title)]=cian_df[feature][cian_df[part]==title].mean()\n",
    "                except:\n",
    "                    pass\n",
    "        except:\n",
    "            pass"
   ]
  },
  {
   "cell_type": "code",
   "execution_count": 117,
   "metadata": {},
   "outputs": [
    {
     "data": {
      "text/plain": [
       "Название                                                                            0\n",
       "Описание                                                                            0\n",
       "Адрес                                                                               0\n",
       "Метро                                                                               0\n",
       "Время до метро                                                                      0\n",
       "Цена                                                                                0\n",
       "Общая                                                                               0\n",
       "Жилая                                                                               0\n",
       "Кухня                                                                               0\n",
       "Этаж                                                                                0\n",
       "Построен                                                                            0\n",
       "Тип жилья                                                                           0\n",
       "Площадь комнат+ обозначение смежных комнат- обозначение изолированных комнат     6296\n",
       "Высота потолков                                                                     0\n",
       "Санузел                                                                             0\n",
       "Балкон/лоджия                                                                       0\n",
       "Ремонт                                                                          12674\n",
       "Вид из окон                                                                     13966\n",
       "Тип дома                                                                            0\n",
       "Тип перекрытий                                                                      0\n",
       "Подъезды                                                                            0\n",
       "Лифты                                                                               0\n",
       "Отопление                                                                           0\n",
       "Аварийность                                                                     14095\n",
       "Район                                                                               0\n",
       "Микрорайон                                                                          0\n",
       "Улица                                                                               0\n",
       "Этажей в доме                                                                       0\n",
       "dtype: int64"
      ]
     },
     "execution_count": 117,
     "metadata": {},
     "output_type": "execute_result"
    }
   ],
   "source": [
    "cian_df.isna().sum()"
   ]
  },
  {
   "cell_type": "markdown",
   "metadata": {},
   "source": [
    "## Окончательная обработка"
   ]
  },
  {
   "cell_type": "code",
   "execution_count": 118,
   "metadata": {},
   "outputs": [],
   "source": [
    "#Переведём в целые значения время до метро:\n",
    "cian_df['Время до метро'] = cian_df['Время до метро'].apply(lambda x: int(x))"
   ]
  },
  {
   "cell_type": "code",
   "execution_count": 119,
   "metadata": {},
   "outputs": [],
   "source": [
    "#Округлим до десятых значения высоты потолков:\n",
    "cian_df['Высота потолков'] = cian_df['Высота потолков'].apply(lambda x: np.round(x,1))"
   ]
  },
  {
   "cell_type": "code",
   "execution_count": 120,
   "metadata": {},
   "outputs": [],
   "source": [
    "#Округлим до целого значения количество подъездов:\n",
    "cian_df['Подъезды'] = cian_df['Подъезды'].apply(lambda x: np.round(x,0))"
   ]
  },
  {
   "cell_type": "code",
   "execution_count": 121,
   "metadata": {},
   "outputs": [
    {
     "data": {
      "text/plain": [
       "array(['Есть', 'Нет', '2 пасс., 1 груз.', 'Есть грузовой', '7 всего',\n",
       "       '14 всего', '11 всего', '2 всего', '3 пасс.', '1 пасс., 1 груз.',\n",
       "       '2 пасс.', '8 всего', '6 всего', '5 всего', '3 всего', '4 всего',\n",
       "       '12 всего', '30 всего', '9 всего', '3 пасс., 1 груз.', '4 пасс.',\n",
       "       '2 пасс., 2 груз.', '1 пасс., 2 груз.', '16 всего', '10 всего',\n",
       "       '23 всего', '4 пасс., 2 груз.', '38 всего', '18 всего', '13 всего',\n",
       "       '15 всего', '2 пасс., 3 груз.', '4 пасс., 4 груз.', '46 всего',\n",
       "       '4 пасс., 1 груз.', '26 всего', '3 пасс., 3 груз.', '21 всего',\n",
       "       '33 всего', '25 всего', '3 пасс., 2 груз.', '19 всего', '20 всего',\n",
       "       '2 груз.', '24 всего', '22 всего', '37 всего', '35 всего',\n",
       "       '17 всего', '29 всего', '28 всего', '34 всего', '9 пасс.',\n",
       "       '40 всего', '32 всего', '41 всего', '27 всего', '4 груз.',\n",
       "       '36 всего', '44 всего', '1 пасс., 3 груз.', '31 всего', '51 всего',\n",
       "       '42 всего', '53 всего', '3 груз.', '52 всего'], dtype=object)"
      ]
     },
     "execution_count": 121,
     "metadata": {},
     "output_type": "execute_result"
    }
   ],
   "source": [
    "cian_df['Лифты'].unique()"
   ]
  },
  {
   "cell_type": "code",
   "execution_count": 122,
   "metadata": {},
   "outputs": [],
   "source": [
    "#Нас по большей части интересуют именно пассажирские лифты, поэтому если они есть, переименовываем в \"Есть\"\n",
    "#Если нет или только грузовые - \"Нет\":\n",
    "def lifts_rename(x):\n",
    "    if x == 'Есть грузовой' or x=='2 груз.' or x=='3 груз.' or x=='4 груз.':\n",
    "        a='Нет'\n",
    "        return a\n",
    "    if x == 'Есть':\n",
    "        return x\n",
    "    if x == 'Нет':\n",
    "        return x\n",
    "    else:\n",
    "        a='Есть'\n",
    "        return a"
   ]
  },
  {
   "cell_type": "code",
   "execution_count": 123,
   "metadata": {},
   "outputs": [],
   "source": [
    "cian_df['Лифты'] = cian_df['Лифты'].apply(lifts_rename)"
   ]
  },
  {
   "cell_type": "code",
   "execution_count": 124,
   "metadata": {},
   "outputs": [
    {
     "data": {
      "text/plain": [
       "Есть    24351\n",
       "Нет      7635\n",
       "Name: Лифты, dtype: int64"
      ]
     },
     "execution_count": 124,
     "metadata": {},
     "output_type": "execute_result"
    }
   ],
   "source": [
    "cian_df['Лифты'].value_counts()"
   ]
  },
  {
   "cell_type": "markdown",
   "metadata": {},
   "source": [
    "### Обработка признака \"Аварийность\""
   ]
  },
  {
   "cell_type": "code",
   "execution_count": 125,
   "metadata": {},
   "outputs": [
    {
     "data": {
      "text/plain": [
       "Нет    17890\n",
       "Да         1\n",
       "Name: Аварийность, dtype: int64"
      ]
     },
     "execution_count": 125,
     "metadata": {},
     "output_type": "execute_result"
    }
   ],
   "source": [
    "cian_df['Аварийность'].value_counts()"
   ]
  },
  {
   "cell_type": "code",
   "execution_count": 126,
   "metadata": {},
   "outputs": [],
   "source": [
    "#1 дом из всех объявлений авариен. Признак бесполезен, удаляем:\n",
    "cian_df = cian_df.drop('Аварийность',axis=1)"
   ]
  },
  {
   "cell_type": "code",
   "execution_count": 127,
   "metadata": {},
   "outputs": [],
   "source": [
    "#Также признак не имеет полезных данных\n",
    "cian_df = cian_df.drop('Площадь комнат+ обозначение смежных комнат- обозначение изолированных комнат',axis=1)"
   ]
  },
  {
   "cell_type": "markdown",
   "metadata": {},
   "source": [
    "### Обработка признака \"Вид из окон\" и \"Ремонт\""
   ]
  },
  {
   "cell_type": "code",
   "execution_count": 128,
   "metadata": {},
   "outputs": [
    {
     "data": {
      "text/plain": [
       "Во двор            7564\n",
       "На улицу и двор    6594\n",
       "На улицу           3862\n",
       "Name: Вид из окон, dtype: int64"
      ]
     },
     "execution_count": 128,
     "metadata": {},
     "output_type": "execute_result"
    }
   ],
   "source": [
    "cian_df['Вид из окон'].value_counts()"
   ]
  },
  {
   "cell_type": "code",
   "execution_count": 129,
   "metadata": {},
   "outputs": [
    {
     "data": {
      "text/plain": [
       "Косметический    6746\n",
       "Евроремонт       5214\n",
       "Без ремонта      4868\n",
       "Дизайнерский     2484\n",
       "Name: Ремонт, dtype: int64"
      ]
     },
     "execution_count": 129,
     "metadata": {},
     "output_type": "execute_result"
    }
   ],
   "source": [
    "cian_df['Ремонт'].value_counts()"
   ]
  },
  {
   "cell_type": "code",
   "execution_count": 130,
   "metadata": {},
   "outputs": [],
   "source": [
    "#Так как ремонт сугубо индивидуален, а вид из окна весьма трудно спрогнозировать, удалим их:\n",
    "cian_df = cian_df.drop(['Ремонт','Вид из окон'],axis=1)"
   ]
  },
  {
   "cell_type": "code",
   "execution_count": 131,
   "metadata": {},
   "outputs": [
    {
     "data": {
      "text/plain": [
       "Название           0\n",
       "Описание           0\n",
       "Адрес              0\n",
       "Метро              0\n",
       "Время до метро     0\n",
       "Цена               0\n",
       "Общая              0\n",
       "Жилая              0\n",
       "Кухня              0\n",
       "Этаж               0\n",
       "Построен           0\n",
       "Тип жилья          0\n",
       "Высота потолков    0\n",
       "Санузел            0\n",
       "Балкон/лоджия      0\n",
       "Тип дома           0\n",
       "Тип перекрытий     0\n",
       "Подъезды           0\n",
       "Лифты              0\n",
       "Отопление          0\n",
       "Район              0\n",
       "Микрорайон         0\n",
       "Улица              0\n",
       "Этажей в доме      0\n",
       "dtype: int64"
      ]
     },
     "execution_count": 131,
     "metadata": {},
     "output_type": "execute_result"
    }
   ],
   "source": [
    "cian_df.isna().sum()"
   ]
  },
  {
   "cell_type": "code",
   "execution_count": 132,
   "metadata": {},
   "outputs": [
    {
     "data": {
      "text/html": [
       "<div>\n",
       "<style scoped>\n",
       "    .dataframe tbody tr th:only-of-type {\n",
       "        vertical-align: middle;\n",
       "    }\n",
       "\n",
       "    .dataframe tbody tr th {\n",
       "        vertical-align: top;\n",
       "    }\n",
       "\n",
       "    .dataframe thead th {\n",
       "        text-align: right;\n",
       "    }\n",
       "</style>\n",
       "<table border=\"1\" class=\"dataframe\">\n",
       "  <thead>\n",
       "    <tr style=\"text-align: right;\">\n",
       "      <th></th>\n",
       "      <th>Название</th>\n",
       "      <th>Описание</th>\n",
       "      <th>Адрес</th>\n",
       "      <th>Метро</th>\n",
       "      <th>Время до метро</th>\n",
       "      <th>Цена</th>\n",
       "      <th>Общая</th>\n",
       "      <th>Жилая</th>\n",
       "      <th>Кухня</th>\n",
       "      <th>Этаж</th>\n",
       "      <th>Построен</th>\n",
       "      <th>Тип жилья</th>\n",
       "      <th>Высота потолков</th>\n",
       "      <th>Санузел</th>\n",
       "      <th>Балкон/лоджия</th>\n",
       "      <th>Тип дома</th>\n",
       "      <th>Тип перекрытий</th>\n",
       "      <th>Подъезды</th>\n",
       "      <th>Лифты</th>\n",
       "      <th>Отопление</th>\n",
       "      <th>Район</th>\n",
       "      <th>Микрорайон</th>\n",
       "      <th>Улица</th>\n",
       "      <th>Этажей в доме</th>\n",
       "    </tr>\n",
       "  </thead>\n",
       "  <tbody>\n",
       "    <tr>\n",
       "      <th>0</th>\n",
       "      <td>2-комн. квартира</td>\n",
       "      <td>Арт. 36084264 Продаётся 2-к.квартира общей пло...</td>\n",
       "      <td>Санкт-Петербург, р-н Кировский, Дачное, Ленинс...</td>\n",
       "      <td>Автово</td>\n",
       "      <td>15</td>\n",
       "      <td>6700000.0</td>\n",
       "      <td>48.40</td>\n",
       "      <td>28.600000</td>\n",
       "      <td>8.000000</td>\n",
       "      <td>3</td>\n",
       "      <td>1988.0</td>\n",
       "      <td>Вторичка</td>\n",
       "      <td>2.5</td>\n",
       "      <td>1 совмещенный</td>\n",
       "      <td>1 балкон</td>\n",
       "      <td>Кирпичный</td>\n",
       "      <td>Железобетонные</td>\n",
       "      <td>3.0</td>\n",
       "      <td>Есть</td>\n",
       "      <td>Центральное</td>\n",
       "      <td>р-н Кировский</td>\n",
       "      <td>Дачное</td>\n",
       "      <td>Ленинский просп.</td>\n",
       "      <td>7</td>\n",
       "    </tr>\n",
       "    <tr>\n",
       "      <th>1</th>\n",
       "      <td>4-комн. квартира</td>\n",
       "      <td>Арт. 43292484 Продаётся 4 комнатная коммунальн...</td>\n",
       "      <td>Санкт-Петербург, р-н Кировский, Автово, просп....</td>\n",
       "      <td>Автово</td>\n",
       "      <td>5</td>\n",
       "      <td>10900000.0</td>\n",
       "      <td>113.40</td>\n",
       "      <td>80.000000</td>\n",
       "      <td>10.000000</td>\n",
       "      <td>5</td>\n",
       "      <td>1956.0</td>\n",
       "      <td>Вторичка</td>\n",
       "      <td>3.0</td>\n",
       "      <td>1 раздельный</td>\n",
       "      <td>1 балкон</td>\n",
       "      <td>Кирпичный</td>\n",
       "      <td>Железобетонные</td>\n",
       "      <td>5.0</td>\n",
       "      <td>Есть</td>\n",
       "      <td>Центральное</td>\n",
       "      <td>р-н Кировский</td>\n",
       "      <td>Автово</td>\n",
       "      <td>просп. Стачек</td>\n",
       "      <td>7</td>\n",
       "    </tr>\n",
       "    <tr>\n",
       "      <th>2</th>\n",
       "      <td>3-комн. квартира</td>\n",
       "      <td>Арт. 43572482 В продаже просторная трёхкомнатн...</td>\n",
       "      <td>Санкт-Петербург, р-н Кировский, Автово, просп....</td>\n",
       "      <td>Автово</td>\n",
       "      <td>8</td>\n",
       "      <td>14000000.0</td>\n",
       "      <td>103.00</td>\n",
       "      <td>63.500000</td>\n",
       "      <td>20.000000</td>\n",
       "      <td>3</td>\n",
       "      <td>1954.0</td>\n",
       "      <td>Вторичка</td>\n",
       "      <td>3.2</td>\n",
       "      <td>1 раздельный</td>\n",
       "      <td>1 балкон</td>\n",
       "      <td>Кирпичный</td>\n",
       "      <td>Железобетонные</td>\n",
       "      <td>6.0</td>\n",
       "      <td>Есть</td>\n",
       "      <td>Центральное</td>\n",
       "      <td>р-н Кировский</td>\n",
       "      <td>Автово</td>\n",
       "      <td>просп. Стачек</td>\n",
       "      <td>6</td>\n",
       "    </tr>\n",
       "    <tr>\n",
       "      <th>3</th>\n",
       "      <td>3-комн. квартира</td>\n",
       "      <td>Арт. 35008138 Предлагается к продаже просторна...</td>\n",
       "      <td>Санкт-Петербург, р-н Кировский, Автово, просп....</td>\n",
       "      <td>Кировский завод</td>\n",
       "      <td>7</td>\n",
       "      <td>8900000.0</td>\n",
       "      <td>86.47</td>\n",
       "      <td>57.000000</td>\n",
       "      <td>10.000000</td>\n",
       "      <td>1</td>\n",
       "      <td>1956.0</td>\n",
       "      <td>Вторичка</td>\n",
       "      <td>3.2</td>\n",
       "      <td>1 раздельный</td>\n",
       "      <td>1 балкон</td>\n",
       "      <td>Кирпичный</td>\n",
       "      <td>Железобетонные</td>\n",
       "      <td>12.0</td>\n",
       "      <td>Есть</td>\n",
       "      <td>Центральное</td>\n",
       "      <td>р-н Кировский</td>\n",
       "      <td>Автово</td>\n",
       "      <td>просп. Стачек</td>\n",
       "      <td>10</td>\n",
       "    </tr>\n",
       "    <tr>\n",
       "      <th>4</th>\n",
       "      <td>Студия</td>\n",
       "      <td>Студия в историческом центре города, 5 минуты ...</td>\n",
       "      <td>Санкт-Петербург, р-н Адмиралтейский, Сенной, Г...</td>\n",
       "      <td>Спасская</td>\n",
       "      <td>4</td>\n",
       "      <td>2500000.0</td>\n",
       "      <td>14.00</td>\n",
       "      <td>7.734003</td>\n",
       "      <td>2.587987</td>\n",
       "      <td>2</td>\n",
       "      <td>1806.0</td>\n",
       "      <td>Вторичка</td>\n",
       "      <td>3.1</td>\n",
       "      <td>1 совмещенный</td>\n",
       "      <td>1 балкон</td>\n",
       "      <td>Кирпичный</td>\n",
       "      <td>Смешанные</td>\n",
       "      <td>6.0</td>\n",
       "      <td>Нет</td>\n",
       "      <td>Центральное</td>\n",
       "      <td>р-н Адмиралтейский</td>\n",
       "      <td>Сенной</td>\n",
       "      <td>Гороховая ул.</td>\n",
       "      <td>4</td>\n",
       "    </tr>\n",
       "  </tbody>\n",
       "</table>\n",
       "</div>"
      ],
      "text/plain": [
       "           Название                                           Описание  \\\n",
       "0  2-комн. квартира  Арт. 36084264 Продаётся 2-к.квартира общей пло...   \n",
       "1  4-комн. квартира  Арт. 43292484 Продаётся 4 комнатная коммунальн...   \n",
       "2  3-комн. квартира  Арт. 43572482 В продаже просторная трёхкомнатн...   \n",
       "3  3-комн. квартира  Арт. 35008138 Предлагается к продаже просторна...   \n",
       "4            Студия  Студия в историческом центре города, 5 минуты ...   \n",
       "\n",
       "                                               Адрес            Метро  \\\n",
       "0  Санкт-Петербург, р-н Кировский, Дачное, Ленинс...           Автово   \n",
       "1  Санкт-Петербург, р-н Кировский, Автово, просп....           Автово   \n",
       "2  Санкт-Петербург, р-н Кировский, Автово, просп....           Автово   \n",
       "3  Санкт-Петербург, р-н Кировский, Автово, просп....  Кировский завод   \n",
       "4  Санкт-Петербург, р-н Адмиралтейский, Сенной, Г...         Спасская   \n",
       "\n",
       "   Время до метро        Цена   Общая      Жилая      Кухня  Этаж  Построен  \\\n",
       "0              15   6700000.0   48.40  28.600000   8.000000     3    1988.0   \n",
       "1               5  10900000.0  113.40  80.000000  10.000000     5    1956.0   \n",
       "2               8  14000000.0  103.00  63.500000  20.000000     3    1954.0   \n",
       "3               7   8900000.0   86.47  57.000000  10.000000     1    1956.0   \n",
       "4               4   2500000.0   14.00   7.734003   2.587987     2    1806.0   \n",
       "\n",
       "  Тип жилья  Высота потолков        Санузел Балкон/лоджия   Тип дома  \\\n",
       "0  Вторичка              2.5  1 совмещенный      1 балкон  Кирпичный   \n",
       "1  Вторичка              3.0   1 раздельный      1 балкон  Кирпичный   \n",
       "2  Вторичка              3.2   1 раздельный      1 балкон  Кирпичный   \n",
       "3  Вторичка              3.2   1 раздельный      1 балкон  Кирпичный   \n",
       "4  Вторичка              3.1  1 совмещенный      1 балкон  Кирпичный   \n",
       "\n",
       "   Тип перекрытий  Подъезды Лифты    Отопление                Район  \\\n",
       "0  Железобетонные       3.0  Есть  Центральное        р-н Кировский   \n",
       "1  Железобетонные       5.0  Есть  Центральное        р-н Кировский   \n",
       "2  Железобетонные       6.0  Есть  Центральное        р-н Кировский   \n",
       "3  Железобетонные      12.0  Есть  Центральное        р-н Кировский   \n",
       "4       Смешанные       6.0   Нет  Центральное   р-н Адмиралтейский   \n",
       "\n",
       "  Микрорайон              Улица  Этажей в доме  \n",
       "0     Дачное   Ленинский просп.              7  \n",
       "1     Автово      просп. Стачек              7  \n",
       "2     Автово      просп. Стачек              6  \n",
       "3     Автово      просп. Стачек             10  \n",
       "4     Сенной      Гороховая ул.              4  "
      ]
     },
     "execution_count": 132,
     "metadata": {},
     "output_type": "execute_result"
    }
   ],
   "source": [
    "cian_df.head()"
   ]
  },
  {
   "cell_type": "code",
   "execution_count": 133,
   "metadata": {},
   "outputs": [],
   "source": [
    "cian_df.to_csv('cian_data_clean.csv', index=False)"
   ]
  },
  {
   "cell_type": "code",
   "execution_count": null,
   "metadata": {},
   "outputs": [],
   "source": []
  }
 ],
 "metadata": {
  "kernelspec": {
   "display_name": "Python 3",
   "language": "python",
   "name": "python3"
  },
  "language_info": {
   "codemirror_mode": {
    "name": "ipython",
    "version": 3
   },
   "file_extension": ".py",
   "mimetype": "text/x-python",
   "name": "python",
   "nbconvert_exporter": "python",
   "pygments_lexer": "ipython3",
   "version": "3.7.4"
  }
 },
 "nbformat": 4,
 "nbformat_minor": 2
}
